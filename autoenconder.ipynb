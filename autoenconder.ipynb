{
 "cells": [
  {
   "cell_type": "code",
   "execution_count": 3,
   "id": "6ea3ef47",
   "metadata": {},
   "outputs": [
    {
     "name": "stdout",
     "output_type": "stream",
     "text": [
      "The autoreload extension is already loaded. To reload it, use:\n",
      "  %reload_ext autoreload\n"
     ]
    }
   ],
   "source": [
    "%load_ext autoreload\n",
    "%autoreload 2\n",
    "\n",
    "import cv2\n",
    "import matplotlib as mpl\n",
    "import matplotlib.pyplot as plt\n",
    "import numpy as np\n",
    "from tensorflow import keras\n",
    "from tensorflow.keras.datasets import mnist\n",
    "from tensorflow.keras.models import Sequential, Model\n",
    "from tensorflow.keras.layers import Dense, Input\n",
    "from tensorflow.keras import optimizers\n",
    "from tensorflow.keras.optimizers import Adam\n",
    "from tensorflow.keras.preprocessing import image"
   ]
  },
  {
   "cell_type": "markdown",
   "id": "9c2053cb",
   "metadata": {},
   "source": [
    "### 1- Autoencoder for Anomaly Detection"
   ]
  },
  {
   "cell_type": "markdown",
   "id": "801df2bf",
   "metadata": {},
   "source": [
    "#### 1.1 First method for compiling model"
   ]
  },
  {
   "cell_type": "code",
   "execution_count": 7,
   "id": "26e16037",
   "metadata": {},
   "outputs": [
    {
     "name": "stdout",
     "output_type": "stream",
     "text": [
      "(60000, 28, 28) (60000,)\n",
      "(60000, 784) (10000, 784)\n"
     ]
    }
   ],
   "source": [
    "(x_train, y_train), (x_test, y_test) = mnist.load_data()\n",
    "print(x_train.shape, y_train.shape)\n",
    "# print(x_train[0,:,:])\n",
    "train_x = x_train.reshape(60000, 784) / 255\n",
    "val_x = x_test.reshape(10000, 784) / 255\n",
    "print(train_x.shape, val_x.shape)\n",
    "# print(train_x[0,:])"
   ]
  },
  {
   "cell_type": "code",
   "execution_count": 8,
   "id": "6f1033bb",
   "metadata": {},
   "outputs": [
    {
     "name": "stderr",
     "output_type": "stream",
     "text": [
      "2021-10-16 20:39:53.301484: W tensorflow/stream_executor/platform/default/dso_loader.cc:64] Could not load dynamic library 'libcuda.so.1'; dlerror: libcuda.so.1: cannot open shared object file: No such file or directory; LD_LIBRARY_PATH: /usr/local/cuda/lib64:/usr/local/nccl2/lib:/usr/local/cuda/extras/CUPTI/lib64\n",
      "2021-10-16 20:39:53.301590: W tensorflow/stream_executor/cuda/cuda_driver.cc:269] failed call to cuInit: UNKNOWN ERROR (303)\n",
      "2021-10-16 20:39:53.301623: I tensorflow/stream_executor/cuda/cuda_diagnostics.cc:156] kernel driver does not appear to be running on this host (mengkai--test): /proc/driver/nvidia/version does not exist\n",
      "2021-10-16 20:39:53.302133: I tensorflow/core/platform/cpu_feature_guard.cc:142] This TensorFlow binary is optimized with oneAPI Deep Neural Network Library (oneDNN) to use the following CPU instructions in performance-critical operations:  AVX2 FMA\n",
      "To enable them in other operations, rebuild TensorFlow with the appropriate compiler flags.\n",
      "2021-10-16 20:39:54.948068: I tensorflow/compiler/mlir/mlir_graph_optimization_pass.cc:185] None of the MLIR Optimization Passes are enabled (registered 2)\n"
     ]
    },
    {
     "name": "stdout",
     "output_type": "stream",
     "text": [
      "Epoch 1/10\n",
      "59/59 [==============================] - 5s 63ms/step - loss: 0.0763 - val_loss: 0.0512\n",
      "Epoch 2/10\n",
      "59/59 [==============================] - 4s 60ms/step - loss: 0.0440 - val_loss: 0.0374\n",
      "Epoch 3/10\n",
      "59/59 [==============================] - 3s 59ms/step - loss: 0.0346 - val_loss: 0.0311\n",
      "Epoch 4/10\n",
      "59/59 [==============================] - 3s 59ms/step - loss: 0.0295 - val_loss: 0.0273\n",
      "Epoch 5/10\n",
      "59/59 [==============================] - 3s 59ms/step - loss: 0.0266 - val_loss: 0.0251\n",
      "Epoch 6/10\n",
      "59/59 [==============================] - 4s 59ms/step - loss: 0.0246 - val_loss: 0.0233\n",
      "Epoch 7/10\n",
      "59/59 [==============================] - 4s 60ms/step - loss: 0.0231 - val_loss: 0.0220\n",
      "Epoch 8/10\n",
      "59/59 [==============================] - 4s 60ms/step - loss: 0.0218 - val_loss: 0.0209\n",
      "Epoch 9/10\n",
      "59/59 [==============================] - 4s 59ms/step - loss: 0.0208 - val_loss: 0.0199\n",
      "Epoch 10/10\n",
      "59/59 [==============================] - 4s 62ms/step - loss: 0.0199 - val_loss: 0.0192\n"
     ]
    }
   ],
   "source": [
    "autoencoder = Sequential()\n",
    "autoencoder.add(Dense(512, activation='elu', input_shape=(784,)))\n",
    "autoencoder.add(Dense(128, activation='elu'))\n",
    "autoencoder.add(Dense(10, activation='linear', name=\"bottleneck\"))\n",
    "autoencoder.add(Dense(128, activation='elu'))\n",
    "autoencoder.add(Dense(512, activation='elu'))\n",
    "autoencoder.add(Dense(784, activation='sigmoid'))\n",
    "autoencoder.compile(loss='mean_squared_error', optimizer = Adam())\n",
    "# trained_model: stores the training history\n",
    "trained_model = autoencoder.fit(train_x, train_x, batch_size=1024, epochs=10, verbose=1, validation_data=(val_x, val_x))\n",
    "encoder = Model(autoencoder.input, autoencoder.get_layer('bottleneck').output)\n",
    "encoded_data = encoder.predict(train_x) # bottleneck representation\n",
    "decoded_output = autoencoder.predict(train_x) # reconstruction\n",
    "encoding_dim = 10\n",
    "\n",
    "# return the decoder\n",
    "encoded_input = Input(shape=(encoding_dim,))\n",
    "decoder = autoencoder.layers[-3](encoded_input)\n",
    "decoder = autoencoder.layers[-2](decoder)\n",
    "decoder = autoencoder.layers[-1](decoder)\n",
    "decoder = Model(encoded_input, decoder)"
   ]
  },
  {
   "cell_type": "markdown",
   "id": "db248d74",
   "metadata": {},
   "source": [
    "#### 1.2 Second method for compiling model"
   ]
  },
  {
   "cell_type": "code",
   "execution_count": null,
   "id": "8c3a0ab7",
   "metadata": {},
   "outputs": [
    {
     "name": "stdout",
     "output_type": "stream",
     "text": [
      "Epoch 1/10\n",
      "59/59 [==============================] - 4s 60ms/step - loss: 0.0734 - val_loss: 0.0505\n",
      "Epoch 2/10\n",
      "59/59 [==============================] - 3s 58ms/step - loss: 0.0454 - val_loss: 0.0399\n",
      "Epoch 3/10\n",
      "59/59 [==============================] - 3s 59ms/step - loss: 0.0370 - val_loss: 0.0332\n",
      "Epoch 4/10\n",
      "59/59 [==============================] - 3s 58ms/step - loss: 0.0306 - val_loss: 0.0276\n",
      "Epoch 5/10\n",
      "59/59 [==============================] - 3s 58ms/step - loss: 0.0267 - val_loss: 0.0249\n",
      "Epoch 6/10\n",
      "59/59 [==============================] - 3s 58ms/step - loss: 0.0244 - val_loss: 0.0230\n",
      "Epoch 7/10\n",
      "59/59 [==============================] - 3s 58ms/step - loss: 0.0228 - val_loss: 0.0218\n",
      "Epoch 8/10\n",
      "59/59 [==============================] - 3s 58ms/step - loss: 0.0216 - val_loss: 0.0206\n",
      "Epoch 9/10\n",
      "59/59 [==============================] - 3s 58ms/step - loss: 0.0206 - val_loss: 0.0199\n",
      "Epoch 10/10\n",
      "59/59 [==============================] - 3s 59ms/step - loss: 0.0198 - val_loss: 0.0192\n"
     ]
    }
   ],
   "source": [
    "(x_train, y_train), (x_test, y_test) = mnist.load_data()\n",
    "train_x = x_train.reshape(60000, 784) / 255\n",
    "val_x = x_test.reshape(10000, 784) / 255\n",
    "\n",
    "input_img = Input(shape=(784,))\n",
    "# autoencoder = Sequential()\n",
    "autoencoder = Dense(512, activation='elu')(input_img)\n",
    "autoencoder = Dense(128,  activation='elu')(autoencoder)\n",
    "autoencoder = Dense(10,    activation='linear', name=\"bottleneck\")(autoencoder)\n",
    "autoencoder = Dense(128,  activation='elu')(autoencoder)\n",
    "autoencoder = Dense(512,  activation='elu')(autoencoder)\n",
    "autoencoder = Dense(784,  activation='sigmoid')(autoencoder)\n",
    "autoencoder = Model(input_img, autoencoder)\n",
    "autoencoder.compile(loss='mean_squared_error', optimizer = Adam())\n",
    "trained_model = autoencoder.fit(train_x, train_x, batch_size=1024, epochs=10, verbose=1, validation_data=(val_x, val_x))\n",
    "encoder = Model(autoencoder.input, autoencoder.get_layer('bottleneck').output)\n",
    "encoded_data = encoder.predict(train_x)  # bottleneck representation\n",
    "decoded_output = autoencoder.predict(train_x)        # reconstruction\n",
    "encoding_dim = 10\n",
    "\n",
    "# return the decoder\n",
    "encoded_input = Input(shape=(encoding_dim,))\n",
    "decoder = autoencoder.layers[-3](encoded_input)\n",
    "decoder = autoencoder.layers[-2](decoder)\n",
    "decoder = autoencoder.layers[-1](decoder)\n",
    "decoder = Model(encoded_input, decoder)"
   ]
  },
  {
   "cell_type": "code",
   "execution_count": 13,
   "id": "20465847",
   "metadata": {},
   "outputs": [],
   "source": [
    "# %matplotlib inline\n",
    "# if the img.png is not one of the MNIST dataset that the model was trained on, the error will be very high.\n",
    "def reconstruct_loss(image_path):\n",
    "    img = image.load_img(image_path, target_size=(28, 28), color_mode = \"grayscale\")\n",
    "    input_img = image.img_to_array(img)\n",
    "    print(input_img.shape)\n",
    "    plt.imshow(input_img, cmap='gray')\n",
    "    plt.axis('off')\n",
    "    plt.show()\n",
    "    inputs = input_img.reshape(1,784)\n",
    "    target_data = autoencoder.predict(inputs)\n",
    "    dist = np.linalg.norm(inputs - target_data, axis=-1)\n",
    "    print(dist)"
   ]
  },
  {
   "cell_type": "code",
   "execution_count": 14,
   "id": "c646e670",
   "metadata": {},
   "outputs": [
    {
     "name": "stdout",
     "output_type": "stream",
     "text": [
      "(28, 28, 1)\n"
     ]
    },
    {
     "data": {
      "image/png": "[encoded data removed]",
      "text/plain": [
       "<Figure size 432x288 with 1 Axes>"
      ]
     },
     "metadata": {
      "needs_background": "light"
     },
     "output_type": "display_data"
    },
    {
     "name": "stdout",
     "output_type": "stream",
     "text": [
      "[1239.1487]\n",
      "(28, 28, 1)\n"
     ]
    },
    {
     "data": {
      "image/png": "[encoded data removed]",
      "text/plain": [
       "<Figure size 432x288 with 1 Axes>"
      ]
     },
     "metadata": {
      "needs_background": "light"
     },
     "output_type": "display_data"
    },
    {
     "name": "stdout",
     "output_type": "stream",
     "text": [
      "[6644.46]\n"
     ]
    }
   ],
   "source": [
    "reconstruct_loss('img1.png')\n",
    "reconstruct_loss('img2.png')"
   ]
  },
  {
   "cell_type": "markdown",
   "id": "ef001839",
   "metadata": {},
   "source": [
    "### 2.0 - Image Denoising"
   ]
  },
  {
   "cell_type": "code",
   "execution_count": 35,
   "id": "07bf35a3",
   "metadata": {},
   "outputs": [
    {
     "data": {
      "text/plain": [
       "<matplotlib.image.AxesImage at 0x7f9f344dfd90>"
      ]
     },
     "execution_count": 35,
     "metadata": {},
     "output_type": "execute_result"
    },
    {
     "data": {
      "image/png": "[encoded data removed]",
      "text/plain": [
       "<Figure size 432x288 with 1 Axes>"
      ]
     },
     "metadata": {
      "needs_background": "light"
     },
     "output_type": "display_data"
    }
   ],
   "source": [
    "noise_factor = 0.5\n",
    "x_train_noisy = x_train + noise_factor * np.random.normal(loc=0.0, scale=1.0, size=x_train.shape) \n",
    "x_test_noisy = x_test + noise_factor * np.random.normal(loc=0.0, scale=1.0, size=x_test.shape) \n",
    "\n",
    "x_train_noisy = np.clip(x_train_noisy, 0., 1.)\n",
    "x_test_noisy = np.clip(x_test_noisy, 0., 1.)\n",
    "\n",
    "#Print one image to see the noise\n",
    "plt.axis('off')\n",
    "plt.imshow(x_test_noisy[1].reshape(28, 28))"
   ]
  },
  {
   "cell_type": "code",
   "execution_count": 42,
   "id": "bbcb1e07",
   "metadata": {},
   "outputs": [],
   "source": [
    "from tensorflow.keras.layers import Conv2D, MaxPooling2D, UpSampling2D"
   ]
  },
  {
   "cell_type": "code",
   "execution_count": 41,
   "id": "47129bb0",
   "metadata": {},
   "outputs": [],
   "source": [
    "input_img = Input(shape=(28, 28, 1))\n",
    "\n",
    "nn = Conv2D(32, (3, 3), activation='relu', padding='same')(input_img)\n",
    "nn = MaxPooling2D((2, 2), padding='same')(nn)\n",
    "nn = Conv2D(32, (3, 3), activation='relu', padding='same')(nn)\n",
    "encoded = MaxPooling2D((2, 2), padding='same')(nn)"
   ]
  },
  {
   "cell_type": "code",
   "execution_count": 43,
   "id": "6f1097cf",
   "metadata": {},
   "outputs": [],
   "source": [
    "nn = Conv2D(32, (3, 3), activation='relu', padding='same')(encoded)\n",
    "nn = UpSampling2D((2, 2))(nn)\n",
    "nn = Conv2D(32, (3, 3), activation='relu', padding='same')(nn)\n",
    "nn = UpSampling2D((2, 2))(nn)\n",
    "decoded = Conv2D(1, (3, 3), activation='sigmoid', padding='same')(nn)"
   ]
  },
  {
   "cell_type": "code",
   "execution_count": null,
   "id": "bc613071",
   "metadata": {},
   "outputs": [],
   "source": [
    "autoencoder = Model(input_img, decoded)\n",
    "autoencoder.compile(optimizer='adadelta',loss='binary_crossentropy')\n",
    "autoencoder.fit(x_train_noisy, x_train, epochs=50, batch_size=256, validation_data=(x_test_noisy, x_test))"
   ]
  },
  {
   "cell_type": "code",
   "execution_count": 47,
   "id": "ccc2c476",
   "metadata": {},
   "outputs": [
    {
     "data": {
      "text/plain": [
       "<matplotlib.image.AxesImage at 0x7f9f126cfc90>"
      ]
     },
     "execution_count": 47,
     "metadata": {},
     "output_type": "execute_result"
    },
    {
     "data": {
      "image/png": "[encoded data removed]",
      "text/plain": [
       "<Figure size 432x288 with 1 Axes>"
      ]
     },
     "metadata": {
      "needs_background": "light"
     },
     "output_type": "display_data"
    }
   ],
   "source": [
    "plt.axis('off')\n",
    "plt.imshow(x_test_noisy[1].reshape(28, 28, 1))"
   ]
  },
  {
   "cell_type": "code",
   "execution_count": 61,
   "id": "81f1744b",
   "metadata": {},
   "outputs": [
    {
     "data": {
      "text/plain": [
       "<matplotlib.image.AxesImage at 0x7f9f122d7110>"
      ]
     },
     "execution_count": 61,
     "metadata": {},
     "output_type": "execute_result"
    },
    {
     "data": {
      "image/png": "[encoded data removed]",
      "text/plain": [
       "<Figure size 432x288 with 1 Axes>"
      ]
     },
     "metadata": {
      "needs_background": "light"
     },
     "output_type": "display_data"
    }
   ],
   "source": [
    "plt.imshow(autoencoder(x_test_noisy[1].reshape(28, 28, 1)).numpy()[:,:,3,0])"
   ]
  },
  {
   "cell_type": "code",
   "execution_count": 55,
   "id": "5e15d9fe",
   "metadata": {},
   "outputs": [
    {
     "data": {
      "text/plain": [
       "(28, 28, 4, 1)"
      ]
     },
     "execution_count": 55,
     "metadata": {},
     "output_type": "execute_result"
    }
   ],
   "source": [
    "autoencoder(x_test_noisy[1].reshape(28, 28, 1)).numpy().shape"
   ]
  },
  {
   "cell_type": "code",
   "execution_count": 57,
   "id": "d329b689",
   "metadata": {},
   "outputs": [
    {
     "data": {
      "text/plain": [
       "array([[0.52299565, 0.5275415 , 0.5279443 , 0.52839226, 0.5276591 ,\n",
       "        0.5263655 , 0.5254713 , 0.5241307 , 0.52371466, 0.5225952 ,\n",
       "        0.52127343, 0.52157557, 0.52165437, 0.5230849 , 0.52537054,\n",
       "        0.5271509 , 0.52750915, 0.52743304, 0.5269762 , 0.5260603 ,\n",
       "        0.525807  , 0.5240635 , 0.5226768 , 0.52305514, 0.5235191 ,\n",
       "        0.5263374 , 0.5292533 , 0.52082646],\n",
       "       [0.521373  , 0.5267867 , 0.52817756, 0.5302077 , 0.5312805 ,\n",
       "        0.5298684 , 0.5283164 , 0.52599365, 0.52492017, 0.5240138 ,\n",
       "        0.5234373 , 0.5239368 , 0.5241763 , 0.5242414 , 0.5237838 ,\n",
       "        0.5239144 , 0.5235588 , 0.52356577, 0.5242307 , 0.52563727,\n",
       "        0.525706  , 0.52607733, 0.52782863, 0.52862185, 0.52923757,\n",
       "        0.529293  , 0.52923495, 0.5198048 ],\n",
       "       [0.52157384, 0.52573997, 0.52622557, 0.5275212 , 0.5274877 ,\n",
       "        0.52689934, 0.52607507, 0.52467966, 0.524191  , 0.52352494,\n",
       "        0.522913  , 0.5235124 , 0.5239966 , 0.52440304, 0.52468574,\n",
       "        0.52455646, 0.5241788 , 0.5245187 , 0.5251089 , 0.5259313 ,\n",
       "        0.5265016 , 0.52558744, 0.5244864 , 0.52366513, 0.52339023,\n",
       "        0.52488965, 0.5273234 , 0.5198673 ],\n",
       "       [0.52273387, 0.52672   , 0.52635837, 0.5259946 , 0.5256145 ,\n",
       "        0.5256999 , 0.5258396 , 0.5275986 , 0.528029  , 0.52858543,\n",
       "        0.53045857, 0.53022885, 0.5300288 , 0.5301614 , 0.5299036 ,\n",
       "        0.52904135, 0.5292279 , 0.52617055, 0.52311105, 0.521447  ,\n",
       "        0.5211635 , 0.52014977, 0.5197425 , 0.52082986, 0.5207783 ,\n",
       "        0.5237123 , 0.5262452 , 0.519346  ],\n",
       "       [0.52016085, 0.52531224, 0.5263002 , 0.5285495 , 0.5286083 ,\n",
       "        0.52857864, 0.52923906, 0.5279923 , 0.5275084 , 0.5260325 ,\n",
       "        0.5260116 , 0.526503  , 0.52703977, 0.5300216 , 0.53192323,\n",
       "        0.5323619 , 0.53264016, 0.52964914, 0.52728856, 0.5247303 ,\n",
       "        0.52380574, 0.52099997, 0.5187204 , 0.5191126 , 0.5193981 ,\n",
       "        0.5214766 , 0.5234225 , 0.51724494],\n",
       "       [0.52278197, 0.5272628 , 0.5267067 , 0.5270172 , 0.52717096,\n",
       "        0.5269556 , 0.5274269 , 0.52849025, 0.5283937 , 0.5287474 ,\n",
       "        0.5302566 , 0.53054273, 0.5311807 , 0.53240395, 0.5326197 ,\n",
       "        0.5321063 , 0.53182745, 0.5277806 , 0.5242177 , 0.52120966,\n",
       "        0.52102476, 0.5196092 , 0.51812613, 0.5216137 , 0.52272034,\n",
       "        0.52779615, 0.532296  , 0.52298397],\n",
       "       [0.52320886, 0.5267582 , 0.52709174, 0.5274117 , 0.526753  ,\n",
       "        0.52706474, 0.5276801 , 0.52741796, 0.5274353 , 0.52715904,\n",
       "        0.5273026 , 0.52672684, 0.5265305 , 0.52635694, 0.52619404,\n",
       "        0.52556145, 0.52509993, 0.5232456 , 0.52140087, 0.52162725,\n",
       "        0.52255654, 0.52300125, 0.52343756, 0.52401847, 0.52413315,\n",
       "        0.52532786, 0.52748877, 0.5209995 ],\n",
       "       [0.5218152 , 0.5269327 , 0.5281853 , 0.5304022 , 0.531273  ,\n",
       "        0.5310472 , 0.5311671 , 0.5306548 , 0.5300235 , 0.5283499 ,\n",
       "        0.52705276, 0.52546734, 0.52549386, 0.52637035, 0.5273422 ,\n",
       "        0.52903336, 0.5294089 , 0.5280019 , 0.5260491 , 0.52316725,\n",
       "        0.5224939 , 0.51938415, 0.517202  , 0.5184862 , 0.5187902 ,\n",
       "        0.52332044, 0.5274613 , 0.5204471 ],\n",
       "       [0.5190534 , 0.52311003, 0.5238593 , 0.5279761 , 0.52998716,\n",
       "        0.53099   , 0.53200716, 0.52963245, 0.52805126, 0.5269547 ,\n",
       "        0.52598584, 0.52565575, 0.5258789 , 0.5265205 , 0.5276188 ,\n",
       "        0.5288094 , 0.5286299 , 0.52794313, 0.52708346, 0.524147  ,\n",
       "        0.52305394, 0.5201975 , 0.5179945 , 0.51934445, 0.5202089 ,\n",
       "        0.5234669 , 0.5262275 , 0.5192321 ],\n",
       "       [0.52782685, 0.53438264, 0.5347976 , 0.53316647, 0.53065604,\n",
       "        0.5268208 , 0.5238126 , 0.52311   , 0.5230135 , 0.52523327,\n",
       "        0.5282164 , 0.5292069 , 0.5292368 , 0.52849704, 0.52838904,\n",
       "        0.52838314, 0.5286452 , 0.52789736, 0.52699214, 0.5247434 ,\n",
       "        0.52393717, 0.52135354, 0.51966923, 0.5200572 , 0.5202592 ,\n",
       "        0.5232002 , 0.5257225 , 0.51927525],\n",
       "       [0.52257633, 0.52647626, 0.5275118 , 0.52676505, 0.5245833 ,\n",
       "        0.5234445 , 0.5225512 , 0.5227215 , 0.5241287 , 0.5267275 ,\n",
       "        0.5289686 , 0.5304138 , 0.53044266, 0.53049314, 0.5304041 ,\n",
       "        0.5291764 , 0.5291071 , 0.5273265 , 0.52598083, 0.5249938 ,\n",
       "        0.5241149 , 0.5226548 , 0.5212518 , 0.52151656, 0.52189636,\n",
       "        0.52383465, 0.52602166, 0.5193006 ],\n",
       "       [0.5211154 , 0.52525485, 0.52590764, 0.5261889 , 0.5255206 ,\n",
       "        0.5249541 , 0.5242485 , 0.5241708 , 0.52446204, 0.5259428 ,\n",
       "        0.5280969 , 0.5303227 , 0.531461  , 0.5329467 , 0.53418404,\n",
       "        0.5331361 , 0.53268087, 0.529376  , 0.5269336 , 0.52482367,\n",
       "        0.5234362 , 0.52144116, 0.5194475 , 0.51989925, 0.52043986,\n",
       "        0.52369654, 0.5266053 , 0.5195621 ],\n",
       "       [0.51960367, 0.522953  , 0.5236608 , 0.52498496, 0.52459854,\n",
       "        0.5260005 , 0.52667266, 0.5278696 , 0.52894074, 0.5298906 ,\n",
       "        0.5314794 , 0.5313866 , 0.5310285 , 0.5300291 , 0.52925694,\n",
       "        0.5287349 , 0.5296605 , 0.52817863, 0.5261241 , 0.5245321 ,\n",
       "        0.52336264, 0.5214285 , 0.52026945, 0.52095145, 0.521412  ,\n",
       "        0.52436256, 0.5271532 , 0.5199989 ],\n",
       "       [0.5227649 , 0.5273993 , 0.5268366 , 0.5264484 , 0.52560323,\n",
       "        0.52602077, 0.5270384 , 0.52853173, 0.52904016, 0.53056765,\n",
       "        0.53351164, 0.5340114 , 0.5339658 , 0.531741  , 0.52941173,\n",
       "        0.5266742 , 0.5259793 , 0.5229813 , 0.52038825, 0.51999956,\n",
       "        0.5197892 , 0.5207176 , 0.521228  , 0.52298003, 0.52321094,\n",
       "        0.5264018 , 0.52970535, 0.5212566 ],\n",
       "       [0.5246224 , 0.5281603 , 0.52782434, 0.5271745 , 0.5263213 ,\n",
       "        0.52674854, 0.5266481 , 0.5284623 , 0.5294083 , 0.5305189 ,\n",
       "        0.53268206, 0.53245604, 0.5325418 , 0.53048456, 0.5285663 ,\n",
       "        0.52504444, 0.5231927 , 0.52136314, 0.5197639 , 0.52107877,\n",
       "        0.5217206 , 0.52235365, 0.52231103, 0.5230023 , 0.52311754,\n",
       "        0.52512985, 0.5277782 , 0.51963097],\n",
       "       [0.5260223 , 0.53051317, 0.52969754, 0.5280628 , 0.5266644 ,\n",
       "        0.52534586, 0.52544355, 0.5277716 , 0.5288877 , 0.53144217,\n",
       "        0.5342992 , 0.5354797 , 0.5365461 , 0.5345585 , 0.53241247,\n",
       "        0.5289531 , 0.52784634, 0.5256774 , 0.52313066, 0.524711  ,\n",
       "        0.52473867, 0.5250434 , 0.525142  , 0.52443093, 0.52393955,\n",
       "        0.52313906, 0.5237241 , 0.51752293],\n",
       "       [0.5225059 , 0.5268396 , 0.52667356, 0.5262953 , 0.5249856 ,\n",
       "        0.52522135, 0.5270432 , 0.5286603 , 0.5294656 , 0.53039813,\n",
       "        0.5311228 , 0.5308255 , 0.5315264 , 0.53018063, 0.52833104,\n",
       "        0.5251903 , 0.523463  , 0.52113974, 0.5193082 , 0.52032787,\n",
       "        0.52093756, 0.5225266 , 0.52290136, 0.5240936 , 0.5244973 ,\n",
       "        0.5272736 , 0.5305238 , 0.5218805 ],\n",
       "       [0.52085876, 0.52586716, 0.52607554, 0.52818483, 0.52835643,\n",
       "        0.5295499 , 0.53170395, 0.53196144, 0.5323358 , 0.53246117,\n",
       "        0.5329139 , 0.53201294, 0.53182364, 0.5283529 , 0.52583706,\n",
       "        0.5242867 , 0.523197  , 0.5224908 , 0.5215583 , 0.5221209 ,\n",
       "        0.5227097 , 0.52319676, 0.52287763, 0.5236239 , 0.5235471 ,\n",
       "        0.52586013, 0.5287373 , 0.5204975 ],\n",
       "       [0.5227373 , 0.52839553, 0.5284797 , 0.5290629 , 0.5287024 ,\n",
       "        0.52917856, 0.5306159 , 0.5315853 , 0.5321697 , 0.5319538 ,\n",
       "        0.5317445 , 0.530673  , 0.5310707 , 0.5280659 , 0.5263017 ,\n",
       "        0.5241183 , 0.5226605 , 0.5218246 , 0.52018374, 0.52255195,\n",
       "        0.52336055, 0.52486587, 0.52596647, 0.525102  , 0.5245556 ,\n",
       "        0.5226227 , 0.52266407, 0.51644796],\n",
       "       [0.521857  , 0.52650154, 0.5264772 , 0.5277646 , 0.5274253 ,\n",
       "        0.5281653 , 0.52961934, 0.5294674 , 0.52934027, 0.52837044,\n",
       "        0.5282226 , 0.5270348 , 0.52690977, 0.527112  , 0.52671826,\n",
       "        0.52665716, 0.52694607, 0.5259063 , 0.52558047, 0.52569216,\n",
       "        0.52543473, 0.5256651 , 0.5271186 , 0.5289442 , 0.5302852 ,\n",
       "        0.5318247 , 0.53271604, 0.52349144],\n",
       "       [0.5205442 , 0.5251748 , 0.5250892 , 0.52622616, 0.525897  ,\n",
       "        0.5273338 , 0.52922475, 0.52963066, 0.52959657, 0.5287018 ,\n",
       "        0.5285331 , 0.5271799 , 0.5272189 , 0.527411  , 0.527279  ,\n",
       "        0.5264461 , 0.5259253 , 0.52513367, 0.52461535, 0.5248594 ,\n",
       "        0.5249575 , 0.5247286 , 0.5253014 , 0.5262063 , 0.52696806,\n",
       "        0.5279631 , 0.5288019 , 0.5204186 ],\n",
       "       [0.52001023, 0.52477294, 0.5252605 , 0.52734166, 0.52708715,\n",
       "        0.5274028 , 0.52868485, 0.52852577, 0.5289667 , 0.528242  ,\n",
       "        0.52743834, 0.52604103, 0.52564377, 0.5257886 , 0.5259879 ,\n",
       "        0.5256684 , 0.5254181 , 0.52488136, 0.52478707, 0.52542686,\n",
       "        0.5259572 , 0.526676  , 0.5280261 , 0.52973044, 0.53069746,\n",
       "        0.53092986, 0.531092  , 0.5219447 ],\n",
       "       [0.5261604 , 0.53149056, 0.5325464 , 0.53177845, 0.53060454,\n",
       "        0.5285075 , 0.5271806 , 0.5265585 , 0.5261785 , 0.52600473,\n",
       "        0.5258172 , 0.5260877 , 0.52595973, 0.52661073, 0.52742624,\n",
       "        0.52701795, 0.526861  , 0.5262844 , 0.5262656 , 0.5267274 ,\n",
       "        0.52760625, 0.5255276 , 0.52402854, 0.5233906 , 0.522297  ,\n",
       "        0.524129  , 0.5258218 , 0.51896894],\n",
       "       [0.52102613, 0.52561915, 0.52549475, 0.52553946, 0.5253123 ,\n",
       "        0.52460814, 0.5240396 , 0.5235454 , 0.5237905 , 0.52419424,\n",
       "        0.5244858 , 0.5248788 , 0.52531654, 0.52460265, 0.5242196 ,\n",
       "        0.5234682 , 0.52334213, 0.52381736, 0.5239488 , 0.5262081 ,\n",
       "        0.5266268 , 0.5273728 , 0.5283012 , 0.52841485, 0.5287047 ,\n",
       "        0.527645  , 0.5278351 , 0.51996213],\n",
       "       [0.5231972 , 0.52678734, 0.52607864, 0.5260593 , 0.52584475,\n",
       "        0.5248485 , 0.5242682 , 0.524414  , 0.52436644, 0.5243921 ,\n",
       "        0.5242576 , 0.52423036, 0.52445865, 0.5244043 , 0.52396846,\n",
       "        0.5230667 , 0.5224122 , 0.5224472 , 0.5230633 , 0.5245543 ,\n",
       "        0.52517354, 0.5250404 , 0.5247584 , 0.52429557, 0.52405035,\n",
       "        0.5249654 , 0.5268842 , 0.51922464],\n",
       "       [0.52268285, 0.52666605, 0.52768403, 0.5281922 , 0.5272331 ,\n",
       "        0.52478665, 0.52299345, 0.5228519 , 0.523606  , 0.5249481 ,\n",
       "        0.5254268 , 0.5244677 , 0.52414596, 0.5224723 , 0.5217683 ,\n",
       "        0.52371675, 0.52403516, 0.5264696 , 0.52922165, 0.5302825 ,\n",
       "        0.5308683 , 0.5295893 , 0.52775365, 0.5255789 , 0.5246648 ,\n",
       "        0.52499646, 0.52608126, 0.51891094],\n",
       "       [0.5220598 , 0.52583414, 0.525912  , 0.5260419 , 0.5253122 ,\n",
       "        0.5246449 , 0.5239379 , 0.5242923 , 0.52497077, 0.5252591 ,\n",
       "        0.525493  , 0.52563596, 0.525749  , 0.5246204 , 0.5234209 ,\n",
       "        0.52231866, 0.52157897, 0.52251714, 0.52396303, 0.52628714,\n",
       "        0.5273084 , 0.52737737, 0.5275089 , 0.526584  , 0.5256631 ,\n",
       "        0.5261089 , 0.52758163, 0.5195676 ],\n",
       "       [0.52427745, 0.5296907 , 0.52951175, 0.52767634, 0.52594805,\n",
       "        0.5237784 , 0.5225067 , 0.523818  , 0.5252713 , 0.5267358 ,\n",
       "        0.5276515 , 0.5264567 , 0.5257814 , 0.5240682 , 0.5229522 ,\n",
       "        0.5234129 , 0.5233736 , 0.5247415 , 0.5260943 , 0.52644235,\n",
       "        0.52668065, 0.5255133 , 0.52446854, 0.5239669 , 0.52397275,\n",
       "        0.5250604 , 0.52655476, 0.51903075]], dtype=float32)"
      ]
     },
     "execution_count": 57,
     "metadata": {},
     "output_type": "execute_result"
    }
   ],
   "source": [
    "autoencoder(x_test_noisy[1].reshape(28, 28, 1)).numpy()[:,:,0,0]"
   ]
  },
  {
   "cell_type": "code",
   "execution_count": null,
   "id": "ec81865e",
   "metadata": {},
   "outputs": [],
   "source": []
  }
 ],
 "metadata": {
  "environment": {
   "name": "tf2-gpu.2-3.m78",
   "type": "gcloud",
   "uri": "gcr.io/deeplearning-platform-release/tf2-gpu.2-3:m78"
  },
  "kernelspec": {
   "display_name": "Python 3",
   "language": "python",
   "name": "python3"
  },
  "language_info": {
   "codemirror_mode": {
    "name": "ipython",
    "version": 3
   },
   "file_extension": ".py",
   "mimetype": "text/x-python",
   "name": "python",
   "nbconvert_exporter": "python",
   "pygments_lexer": "ipython3",
   "version": "3.7.10"
  }
 },
 "nbformat": 4,
 "nbformat_minor": 5
}
